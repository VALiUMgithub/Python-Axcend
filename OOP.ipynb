{
  "nbformat": 4,
  "nbformat_minor": 0,
  "metadata": {
    "colab": {
      "provenance": []
    },
    "kernelspec": {
      "name": "python3",
      "display_name": "Python 3"
    },
    "language_info": {
      "name": "python"
    }
  },
  "cells": [
    {
      "cell_type": "code",
      "execution_count": null,
      "metadata": {
        "id": "RUyjtTwGqSUM"
      },
      "outputs": [],
      "source": [
        "#Bank Account class\n",
        "class BankAccount:\n",
        "  def __init__(self):\n",
        "    self.balance = 0\n",
        "\n",
        "  def deposit(self, amount):\n",
        "    self.balance += amount\n",
        "\n",
        "  def withdraw(self, amount):\n",
        "    if amount <= self.balance:\n",
        "      self.balance -= amount\n",
        "    else:\n",
        "      print(\"Insufficient Balance\")\n",
        "\n",
        "  def display_balance(self):\n",
        "    return self.balance\n",
        "\n",
        "my_account = BankAccount()\n",
        "\n",
        "my_account.deposit(1000)\n",
        "my_account.display_balance()\n",
        "my_account.deposit(5000)\n"
      ]
    },
    {
      "cell_type": "code",
      "source": [
        "#Student Details\n",
        "class Student:\n",
        "    def __init__(self, name, age, grade):\n",
        "        self.name = name\n",
        "        self.age = age\n",
        "        self.grade = grade\n",
        "\n",
        "    def display_info(self):\n",
        "        return f\"Name: {self.name}, Age: {self.age}, Grade: {self.grade}\"\n",
        "\n",
        "    def calculate_grade(self):\n",
        "        # Add your grade calculation logic here\n",
        "        pass\n",
        "student1 = Student(\"Srujan\", 22, \"A+\")\n",
        "student1.display_info()\n"
      ],
      "metadata": {
        "colab": {
          "base_uri": "https://localhost:8080/",
          "height": 37
        },
        "id": "DqEH_S1Owog1",
        "outputId": "48f16c1a-70d5-42e4-cc00-597d4888ba95"
      },
      "execution_count": null,
      "outputs": [
        {
          "output_type": "execute_result",
          "data": {
            "text/plain": [
              "'Name: Srujan, Age: 22, Grade: A+'"
            ],
            "application/vnd.google.colaboratory.intrinsic+json": {
              "type": "string"
            }
          },
          "metadata": {},
          "execution_count": 4
        }
      ]
    },
    {
      "cell_type": "code",
      "source": [
        "#Book Library\n",
        "class Book:\n",
        "  def __init__(self, title, author, pages):\n",
        "    self.title =title\n",
        "    self.author = author\n",
        "    self.pages = pages\n",
        "\n",
        "class Library:\n",
        "  def __init__(self):\n",
        "    self.books = []\n",
        "\n",
        "  def add_book(self, book):\n",
        "    self.books.append(book)\n",
        "\n",
        "  def remove_books(self, book):\n",
        "    self.books.remove(book)\n",
        "\n",
        "  def display(self):\n",
        "    for book in self.books:\n",
        "      print(f\"Title: {book.title}, Author: {book.author}, Pages: {book.pages}\")\n",
        "\n",
        "book1 = Book(\"The God Of Small Things\", \"Arundhati Roy\", 300)\n",
        "book2 = Book(\"The Bet\", \"Anton Chekov\", 350)\n",
        "\n",
        "library = Library()\n",
        "\n",
        "library.add_book(book1)\n",
        "library.add_book(book2)\n",
        "\n",
        "library.display()"
      ],
      "metadata": {
        "colab": {
          "base_uri": "https://localhost:8080/"
        },
        "id": "pM4Lv6lCwoOV",
        "outputId": "afaa5c17-e192-4350-c91e-ecb54544a33c"
      },
      "execution_count": null,
      "outputs": [
        {
          "output_type": "stream",
          "name": "stdout",
          "text": [
            "Title: The God Of Small Things, Author: Arundhati Roy, Pages: 300\n",
            "Title: The Bet, Author: Anton Chekov, Pages: 350\n"
          ]
        }
      ]
    },
    {
      "cell_type": "code",
      "source": [
        "class Shape:\n",
        "    def calculate_area(self):\n",
        "        pass\n",
        "\n",
        "class Circle(Shape):\n",
        "    def __init__(self, radius):\n",
        "        self.radius = radius\n",
        "\n",
        "    def calculate_area(self):\n",
        "        return 3.14 * self.radius ** 2\n",
        "\n",
        "class Rectangle(Shape):\n",
        "    def __init__(self, length, width):\n",
        "        self.length = length\n",
        "        self.width = width\n",
        "\n",
        "    def calculate_area(self):\n",
        "        return self.length * self.width\n",
        "\n",
        "# Creating instances of Circle and Rectangle\n",
        "circle = Circle(radius=5)\n",
        "rectangle = Rectangle(length=4, width=6)\n",
        "\n",
        "# Calculating areas\n",
        "print(circle.calculate_area())\n",
        "print(rectangle.calculate_area())\n"
      ],
      "metadata": {
        "colab": {
          "base_uri": "https://localhost:8080/"
        },
        "id": "9ycTG_Vu5VL_",
        "outputId": "6a712e8f-1e9d-49f3-b0db-ed9ac995a60b"
      },
      "execution_count": null,
      "outputs": [
        {
          "output_type": "stream",
          "name": "stdout",
          "text": [
            "78.5\n",
            "24\n"
          ]
        }
      ]
    },
    {
      "cell_type": "code",
      "source": [
        "#Todo list\n",
        "class TodoList:\n",
        "    def __init__(self):\n",
        "        self.tasks = []\n",
        "\n",
        "    def add_task(self, task):\n",
        "        self.tasks.append(task)\n",
        "\n",
        "    def remove_task(self, task):\n",
        "        self.tasks.remove(task)\n",
        "\n",
        "    def display_tasks(self):\n",
        "        return self.tasks\n",
        "# Creating an instance of TodoList\n",
        "my_todo_list = TodoList()\n",
        "\n",
        "# Adding tasks\n",
        "my_todo_list.add_task(\"Task 1\")\n",
        "my_todo_list.add_task(\"Task 2\")\n",
        "\n",
        "# Removing a task\n",
        "my_todo_list.remove_task(\"Task 1\")\n",
        "\n",
        "# Displaying tasks\n",
        "print(my_todo_list.display_tasks())\n"
      ],
      "metadata": {
        "colab": {
          "base_uri": "https://localhost:8080/"
        },
        "id": "dve7yRQZ0fJL",
        "outputId": "2bd53d6c-4fc6-4a62-b9f7-4bb63ccb967b"
      },
      "execution_count": 1,
      "outputs": [
        {
          "output_type": "stream",
          "name": "stdout",
          "text": [
            "['Task 2']\n"
          ]
        }
      ]
    },
    {
      "cell_type": "code",
      "source": [
        "#Shopping Cart\n",
        "class ShoppingCart:\n",
        "    def __init__(self):\n",
        "        self.items = {}\n",
        "\n",
        "    def add_item(self, item, quantity):\n",
        "        if item in self.items:\n",
        "            self.items[item] += quantity\n",
        "        else:\n",
        "            self.items[item] = quantity\n",
        "\n",
        "    def remove_item(self, item, quantity):\n",
        "        if item in self.items:\n",
        "            self.items[item] -= quantity\n",
        "            if self.items[item] <= 0:\n",
        "                del self.items[item]\n",
        "\n",
        "    def display_cart(self):\n",
        "        return self.items\n",
        "\n",
        "\n",
        "# Creating an instance of ShoppingCart\n",
        "my_cart = ShoppingCart()\n",
        "\n",
        "# Adding items to the cart\n",
        "my_cart.add_item(\"Item1\", 2)\n",
        "my_cart.add_item(\"Item2\", 1)\n",
        "\n",
        "# Removing an item from the cart\n",
        "my_cart.remove_item(\"Item1\", 1)\n",
        "\n",
        "# Displaying the cart\n",
        "print(my_cart.display_cart())\n"
      ],
      "metadata": {
        "id": "0PY-MSI85VD6",
        "colab": {
          "base_uri": "https://localhost:8080/"
        },
        "outputId": "87ba8a02-589e-4583-ecb4-ec2952bbf664"
      },
      "execution_count": 2,
      "outputs": [
        {
          "output_type": "stream",
          "name": "stdout",
          "text": [
            "{'Item1': 1, 'Item2': 1}\n"
          ]
        }
      ]
    }
  ]
}