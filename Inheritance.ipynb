{
  "nbformat": 4,
  "nbformat_minor": 0,
  "metadata": {
    "colab": {
      "provenance": []
    },
    "kernelspec": {
      "name": "python3",
      "display_name": "Python 3"
    },
    "language_info": {
      "name": "python"
    }
  },
  "cells": [
    {
      "cell_type": "code",
      "execution_count": 1,
      "metadata": {
        "colab": {
          "base_uri": "https://localhost:8080/"
        },
        "id": "ZPhOYvSLx389",
        "outputId": "b8097dac-638f-4606-8a69-bf0e0679fe51"
      },
      "outputs": [
        {
          "output_type": "stream",
          "name": "stdout",
          "text": [
            "Animal speaks\n",
            "Dog barks\n",
            "Animal speaks\n",
            "Cat meows\n"
          ]
        }
      ],
      "source": [
        "#Heirarchical Inheritance\n",
        "class Animal:\n",
        "    def speak(self):\n",
        "        print(\"Animal speaks\")\n",
        "\n",
        "class Dog(Animal):\n",
        "    def bark(self):\n",
        "        print(\"Dog barks\")\n",
        "\n",
        "class Cat(Animal):\n",
        "    def meow(self):\n",
        "        print(\"Cat meows\")\n",
        "\n",
        "# Both Dog and Cat inherit from Animal\n",
        "dog = Dog()\n",
        "dog.speak()  # Dog can speak\n",
        "dog.bark()   # Dog can bark\n",
        "\n",
        "cat = Cat()\n",
        "cat.speak()  # Cat can speak\n",
        "cat.meow()   # Cat can meow\n"
      ]
    },
    {
      "cell_type": "code",
      "source": [
        "#Hybrid Inheritance\n",
        "class A:\n",
        "    def method_A(self):\n",
        "        print(\"Method A\")\n",
        "\n",
        "class B(A):\n",
        "    def method_B(self):\n",
        "        print(\"Method B\")\n",
        "\n",
        "class C(A):\n",
        "    def method_C(self):\n",
        "        print(\"Method C\")\n",
        "\n",
        "class D(B, C):\n",
        "    def method_D(self):\n",
        "        print(\"Method D\")\n",
        "\n",
        "# Class D inherits from both B and C, which inherit from A\n",
        "d = D()\n",
        "d.method_A()  # Method A from class A\n",
        "d.method_B()  # Method B from class B\n",
        "d.method_C()  # Method C from class C\n",
        "d.method_D()  # Method D from class D\n"
      ],
      "metadata": {
        "colab": {
          "base_uri": "https://localhost:8080/"
        },
        "id": "lHQenaLJyg55",
        "outputId": "9a5f90a3-af05-49a2-84ab-1342e806a1b8"
      },
      "execution_count": 2,
      "outputs": [
        {
          "output_type": "stream",
          "name": "stdout",
          "text": [
            "Method A\n",
            "Method B\n",
            "Method C\n",
            "Method D\n"
          ]
        }
      ]
    },
    {
      "cell_type": "code",
      "source": [
        "#Mixin Inheritance\n",
        "class JSONMixin:\n",
        "    def to_json(self):\n",
        "        import json\n",
        "        return json.dumps(self.__dict__)\n",
        "\n",
        "class XMLMixin:\n",
        "    def to_xml(self):\n",
        "        xml_str = \"<{}>\\n\".format(self.__class__.__name__)\n",
        "        for key, value in self.__dict__.items():\n",
        "            xml_str += \"  <{}>{}</{}>\\n\".format(key, value, key)\n",
        "        xml_str += \"</{}>\".format(self.__class__.__name__)\n",
        "        return xml_str\n",
        "\n",
        "class Person(JSONMixin, XMLMixin):\n",
        "    def __init__(self, name, age):\n",
        "        self.name = name\n",
        "        self.age = age\n",
        "\n",
        "# Person class inherits from both JSONMixin and XMLMixin\n",
        "person = Person(\"John\", 30)\n",
        "print(person.to_json())  # Convert to JSON\n",
        "print(person.to_xml())   # Convert to XML\n"
      ],
      "metadata": {
        "colab": {
          "base_uri": "https://localhost:8080/"
        },
        "id": "42n6MT5Cygw6",
        "outputId": "cc6813eb-c92f-4dd8-eb71-d1f5af5faf3a"
      },
      "execution_count": 3,
      "outputs": [
        {
          "output_type": "stream",
          "name": "stdout",
          "text": [
            "{\"name\": \"John\", \"age\": 30}\n",
            "<Person>\n",
            "  <name>John</name>\n",
            "  <age>30</age>\n",
            "</Person>\n"
          ]
        }
      ]
    },
    {
      "cell_type": "code",
      "source": [
        "#Interface Inheritance\n",
        "from abc import ABC, abstractmethod\n",
        "\n",
        "class Shape(ABC):\n",
        "    @abstractmethod\n",
        "    def area(self):\n",
        "        pass\n",
        "\n",
        "class Rectangle(Shape):\n",
        "    def __init__(self, length, width):\n",
        "        self.length = length\n",
        "        self.width = width\n",
        "\n",
        "    def area(self):\n",
        "        return self.length * self.width\n",
        "\n",
        "class Circle(Shape):\n",
        "    def __init__(self, radius):\n",
        "        self.radius = radius\n",
        "\n",
        "    def area(self):\n",
        "        return 3.14 * self.radius ** 2\n",
        "\n",
        "# Both Rectangle and Circle implement the abstract method area() defined in Shape\n",
        "rectangle = Rectangle(5, 4)\n",
        "print(\"Area of rectangle:\", rectangle.area())\n",
        "\n",
        "circle = Circle(3)\n",
        "print(\"Area of circle:\", circle.area())\n"
      ],
      "metadata": {
        "colab": {
          "base_uri": "https://localhost:8080/"
        },
        "id": "Q3FtUzAyy1V-",
        "outputId": "aeaf63cb-bb96-4fa2-d344-852a1a1348c7"
      },
      "execution_count": 4,
      "outputs": [
        {
          "output_type": "stream",
          "name": "stdout",
          "text": [
            "Area of rectangle: 20\n",
            "Area of circle: 28.26\n"
          ]
        }
      ]
    },
    {
      "cell_type": "code",
      "source": [
        "#Multilevel Inheritance\n",
        "class Grandparent:\n",
        "    def grandparent_method(self):\n",
        "        print(\"Grandparent method\")\n",
        "\n",
        "class Parent(Grandparent):\n",
        "    def parent_method(self):\n",
        "        print(\"Parent method\")\n",
        "\n",
        "class Child(Parent):\n",
        "    def child_method(self):\n",
        "        print(\"Child method\")\n",
        "\n",
        "# Create an object of Child class\n",
        "child_obj = Child()\n",
        "\n",
        "# Access methods of all three classes\n",
        "child_obj.grandparent_method()\n",
        "child_obj.parent_method()\n",
        "child_obj.child_method()\n"
      ],
      "metadata": {
        "colab": {
          "base_uri": "https://localhost:8080/"
        },
        "id": "zTFxANYxy-Ld",
        "outputId": "b64a8faf-738f-4362-9876-96187d1b0757"
      },
      "execution_count": 5,
      "outputs": [
        {
          "output_type": "stream",
          "name": "stdout",
          "text": [
            "Grandparent method\n",
            "Parent method\n",
            "Child method\n"
          ]
        }
      ]
    },
    {
      "cell_type": "code",
      "source": [
        "#Multiple Inheritance\n",
        "class Parent1:\n",
        "    def method1(self):\n",
        "        print(\"Parent1 method\")\n",
        "\n",
        "class Parent2:\n",
        "    def method2(self):\n",
        "        print(\"Parent2 method\")\n",
        "\n",
        "class Child(Parent1, Parent2):\n",
        "    def child_method(self):\n",
        "        print(\"Child method\")\n",
        "\n",
        "# Create an object of Child class\n",
        "child_obj = Child()\n",
        "\n",
        "# Access methods of both Parent1 and Parent2 classes\n",
        "child_obj.method1()\n",
        "child_obj.method2()\n",
        "child_obj.child_method()\n"
      ],
      "metadata": {
        "colab": {
          "base_uri": "https://localhost:8080/"
        },
        "id": "1MOY4_UZzCZP",
        "outputId": "b84da16e-a793-49f3-8b7f-154b576d9a7f"
      },
      "execution_count": 6,
      "outputs": [
        {
          "output_type": "stream",
          "name": "stdout",
          "text": [
            "Parent1 method\n",
            "Parent2 method\n",
            "Child method\n"
          ]
        }
      ]
    }
  ]
}